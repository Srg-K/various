{
 "cells": [
  {
   "cell_type": "code",
   "execution_count": 35,
   "id": "f0b3dabd",
   "metadata": {
    "pycharm": {
     "name": "#%%\n"
    }
   },
   "outputs": [],
   "source": [
    "import pandas as pd\n",
    "import numpy as np\n",
    "from scipy.stats import t\n",
    "from statsmodels.stats.power import tt_ind_solve_power"
   ]
  },
  {
   "cell_type": "markdown",
   "id": "579f04d4",
   "metadata": {},
   "source": [
    "# Посчитаем необходимый размер выборки для ratio-метрики"
   ]
  },
  {
   "cell_type": "markdown",
   "id": "d85f6e76",
   "metadata": {},
   "source": [
    "Ниже показан кейс, когда мы рассчитываем прогнозное количество наблюдений перед экспериментом. У нас есть исторический датасет (сделаем из генератора) и по нему можно посчитать дисперсию желаемой метрики. В этом примере посчитаем количество наблюдений для CTR: клики / сессии. Если вы считаете CTR как клики / показы, то суть не меняется. Для разнообразия добавим еще метрику Average Revenue Per Session"
   ]
  },
  {
   "cell_type": "code",
   "execution_count": 36,
   "id": "e3dd261d",
   "metadata": {
    "pycharm": {
     "name": "#%%\n"
    }
   },
   "outputs": [
    {
     "data": {
      "text/html": [
       "<div>\n",
       "<style scoped>\n",
       "    .dataframe tbody tr th:only-of-type {\n",
       "        vertical-align: middle;\n",
       "    }\n",
       "\n",
       "    .dataframe tbody tr th {\n",
       "        vertical-align: top;\n",
       "    }\n",
       "\n",
       "    .dataframe thead th {\n",
       "        text-align: right;\n",
       "    }\n",
       "</style>\n",
       "<table border=\"1\" class=\"dataframe\">\n",
       "  <thead>\n",
       "    <tr style=\"text-align: right;\">\n",
       "      <th></th>\n",
       "      <th>session_cnt</th>\n",
       "      <th>revenue_amt</th>\n",
       "      <th>click_cnt</th>\n",
       "      <th>variant</th>\n",
       "    </tr>\n",
       "  </thead>\n",
       "  <tbody>\n",
       "    <tr>\n",
       "      <th>0</th>\n",
       "      <td>6</td>\n",
       "      <td>973</td>\n",
       "      <td>85</td>\n",
       "      <td>1</td>\n",
       "    </tr>\n",
       "    <tr>\n",
       "      <th>1</th>\n",
       "      <td>12</td>\n",
       "      <td>488</td>\n",
       "      <td>89</td>\n",
       "      <td>0</td>\n",
       "    </tr>\n",
       "    <tr>\n",
       "      <th>2</th>\n",
       "      <td>13</td>\n",
       "      <td>493</td>\n",
       "      <td>2</td>\n",
       "      <td>0</td>\n",
       "    </tr>\n",
       "    <tr>\n",
       "      <th>3</th>\n",
       "      <td>9</td>\n",
       "      <td>57</td>\n",
       "      <td>18</td>\n",
       "      <td>0</td>\n",
       "    </tr>\n",
       "    <tr>\n",
       "      <th>4</th>\n",
       "      <td>10</td>\n",
       "      <td>226</td>\n",
       "      <td>24</td>\n",
       "      <td>0</td>\n",
       "    </tr>\n",
       "    <tr>\n",
       "      <th>...</th>\n",
       "      <td>...</td>\n",
       "      <td>...</td>\n",
       "      <td>...</td>\n",
       "      <td>...</td>\n",
       "    </tr>\n",
       "    <tr>\n",
       "      <th>99995</th>\n",
       "      <td>17</td>\n",
       "      <td>756</td>\n",
       "      <td>40</td>\n",
       "      <td>1</td>\n",
       "    </tr>\n",
       "    <tr>\n",
       "      <th>99996</th>\n",
       "      <td>23</td>\n",
       "      <td>440</td>\n",
       "      <td>22</td>\n",
       "      <td>1</td>\n",
       "    </tr>\n",
       "    <tr>\n",
       "      <th>99997</th>\n",
       "      <td>19</td>\n",
       "      <td>595</td>\n",
       "      <td>20</td>\n",
       "      <td>0</td>\n",
       "    </tr>\n",
       "    <tr>\n",
       "      <th>99998</th>\n",
       "      <td>8</td>\n",
       "      <td>1914</td>\n",
       "      <td>65</td>\n",
       "      <td>1</td>\n",
       "    </tr>\n",
       "    <tr>\n",
       "      <th>99999</th>\n",
       "      <td>21</td>\n",
       "      <td>682</td>\n",
       "      <td>39</td>\n",
       "      <td>1</td>\n",
       "    </tr>\n",
       "  </tbody>\n",
       "</table>\n",
       "<p>100000 rows × 4 columns</p>\n",
       "</div>"
      ],
      "text/plain": [
       "       session_cnt  revenue_amt  click_cnt  variant\n",
       "0                6          973         85        1\n",
       "1               12          488         89        0\n",
       "2               13          493          2        0\n",
       "3                9           57         18        0\n",
       "4               10          226         24        0\n",
       "...            ...          ...        ...      ...\n",
       "99995           17          756         40        1\n",
       "99996           23          440         22        1\n",
       "99997           19          595         20        0\n",
       "99998            8         1914         65        1\n",
       "99999           21          682         39        1\n",
       "\n",
       "[100000 rows x 4 columns]"
      ]
     },
     "metadata": {},
     "output_type": "display_data"
    }
   ],
   "source": [
    "np.random.seed(1)\n",
    "n = 100000\n",
    "\n",
    "# каждая строка – уникальный пользователь с суммой кликов, выручкой и сессий за период \n",
    "df = pd.DataFrame({\n",
    "    'session_cnt': np.random.randint(low = 1, high = 30, size = n),\n",
    "    'revenue_amt': np.random.randint(low = 0, high = 2000, size = n),\n",
    "    'click_cnt': np.random.randint(low = 1, high = 100, size = n),\n",
    "    'variant': np.random.randint(low = 0, high = 2, size = n)\n",
    "})\n",
    "display(df)"
   ]
  },
  {
   "cell_type": "markdown",
   "id": "9a0f8947",
   "metadata": {},
   "source": [
    "### Сделаем функцию расчета дисперсии дельта-методом"
   ]
  },
  {
   "cell_type": "code",
   "execution_count": 37,
   "id": "2678f516",
   "metadata": {
    "pycharm": {
     "name": "#%%\n"
    }
   },
   "outputs": [],
   "source": [
    "def calculate_ratio_variance(numerator: float, denominator: float) -> float:\n",
    "    numerator_mean = np.mean(numerator)\n",
    "    numerator_var = np.var(numerator)\n",
    "    denominator_mean = np.mean(denominator)\n",
    "    denominator_var = np.var(denominator)\n",
    "    \n",
    "    cov = np.mean((numerator - numerator_mean) * (denominator - denominator_mean))\n",
    "\n",
    "    var = (numerator_var / denominator_mean ** 2\n",
    "           + denominator_var * numerator_mean ** 2 / denominator_mean ** 4\n",
    "           - 2 * numerator_mean / denominator_mean ** 3 * cov)\n",
    "    return var"
   ]
  },
  {
   "cell_type": "markdown",
   "id": "fc65f129",
   "metadata": {},
   "source": [
    "## Pipeline"
   ]
  },
  {
   "cell_type": "code",
   "execution_count": 38,
   "id": "af6b1770",
   "metadata": {
    "pycharm": {
     "name": "#%%\n"
    }
   },
   "outputs": [
    {
     "name": "stderr",
     "output_type": "stream",
     "text": [
      "/var/folders/m7/p0h2nb855k5_n3tkckyhqdf40000gp/T/ipykernel_98790/3543577547.py:41: FutureWarning: The frame.append method is deprecated and will be removed from pandas in a future version. Use pandas.concat instead.\n",
      "  res = res.append(to_insert, ignore_index=True)\n",
      "/var/folders/m7/p0h2nb855k5_n3tkckyhqdf40000gp/T/ipykernel_98790/3543577547.py:41: FutureWarning: The frame.append method is deprecated and will be removed from pandas in a future version. Use pandas.concat instead.\n",
      "  res = res.append(to_insert, ignore_index=True)\n"
     ]
    },
    {
     "data": {
      "text/html": [
       "<div>\n",
       "<style scoped>\n",
       "    .dataframe tbody tr th:only-of-type {\n",
       "        vertical-align: middle;\n",
       "    }\n",
       "\n",
       "    .dataframe tbody tr th {\n",
       "        vertical-align: top;\n",
       "    }\n",
       "\n",
       "    .dataframe thead th {\n",
       "        text-align: right;\n",
       "    }\n",
       "</style>\n",
       "<table border=\"1\" class=\"dataframe\">\n",
       "  <thead>\n",
       "    <tr style=\"text-align: right;\">\n",
       "      <th></th>\n",
       "      <th>metric</th>\n",
       "      <th>effect_size</th>\n",
       "      <th>n_need</th>\n",
       "    </tr>\n",
       "  </thead>\n",
       "  <tbody>\n",
       "    <tr>\n",
       "      <th>0</th>\n",
       "      <td>clicks_per_session</td>\n",
       "      <td>0.051861</td>\n",
       "      <td>8686.268007</td>\n",
       "    </tr>\n",
       "    <tr>\n",
       "      <th>1</th>\n",
       "      <td>revenue_per_session</td>\n",
       "      <td>0.042571</td>\n",
       "      <td>12890.153549</td>\n",
       "    </tr>\n",
       "  </tbody>\n",
       "</table>\n",
       "</div>"
      ],
      "text/plain": [
       "                metric  effect_size        n_need\n",
       "0   clicks_per_session     0.051861   8686.268007\n",
       "1  revenue_per_session     0.042571  12890.153549"
      ]
     },
     "metadata": {},
     "output_type": "display_data"
    }
   ],
   "source": [
    "ALPHA = 0.01\n",
    "POWER = 0.8\n",
    "\n",
    "# Добавим псевдоэффект для числителя потом посчитаем необходимое количество наблюдений для его нахождения. \n",
    "# Обычно в рамках A/B мы хотим чтобы именно числитель менялся, а знаменатель оставался прежним. \n",
    "# Будем делать прогноз для 5% эффекта\n",
    "np.random.seed(1)\n",
    "df.loc[df.variant == 1,'click_cnt'] = df.loc[df.variant == 1,'click_cnt'] * 1.05\n",
    "df.loc[df.variant == 1,'revenue_amt'] = df.loc[df.variant == 1,'revenue_amt'] * 1.05\n",
    "\n",
    "# Параметры метрики\n",
    "METRIC_PARAMS = {\n",
    "    # TODO добавить параметры метрики\n",
    "    \"clicks_per_session\": {\"num\": \"click_cnt\", \"den\": \"session_cnt\"},\n",
    "    \"revenue_per_session\": {\"num\": \"revenue_amt\", \"den\": \"session_cnt\"},\n",
    "}\n",
    "\n",
    "# По каждой метрике посчитаем все интересующие нас статистики\n",
    "# У нас тут одна метрика, но можете добавить свои параметры\n",
    "res = pd.DataFrame()\n",
    "for metric, param in METRIC_PARAMS.items():\n",
    "    \n",
    "    # дисперсия для ratio\n",
    "    var = calculate_ratio_variance(\n",
    "        numerator=df.loc[df.variant == 0, param['num']], \n",
    "        denominator=df.loc[df.variant == 0, param['den']]\n",
    "    )\n",
    "    \n",
    "    # средние ratio\n",
    "    rto_0 = np.sum(df.loc[df.variant == 0, param['num']]) / np.sum(df.loc[df.variant == 0, param['den']])\n",
    "    rto_1 = np.sum(df.loc[df.variant == 1, param['num']]) / np.sum(df.loc[df.variant == 1, param['den']])\n",
    "    \n",
    "    delta = rto_1 - rto_0\n",
    "    effect_size = abs(delta) / np.sqrt(var)\n",
    "\n",
    "    to_insert = {\n",
    "        \"metric\": metric,\n",
    "        \"effect_size\": effect_size\n",
    "    }\n",
    "    \n",
    "    res = res.append(to_insert, ignore_index=True)\n",
    "\n",
    "# Считаем необходимое количество наблюдений по fixed horizon\n",
    "res['n_need'] = [tt_ind_solve_power(row[0], alpha=ALPHA, power=POWER) for row in zip(res['effect_size'])]\n",
    "display(res)"
   ]
  },
  {
   "cell_type": "code",
   "execution_count": null,
   "id": "e8a9b05c",
   "metadata": {},
   "outputs": [],
   "source": []
  }
 ],
 "metadata": {
  "kernelspec": {
   "display_name": "Python 3 (ipykernel)",
   "language": "python",
   "name": "python3"
  },
  "language_info": {
   "codemirror_mode": {
    "name": "ipython",
    "version": 3
   },
   "file_extension": ".py",
   "mimetype": "text/x-python",
   "name": "python",
   "nbconvert_exporter": "python",
   "pygments_lexer": "ipython3",
   "version": "3.8.1"
  }
 },
 "nbformat": 4,
 "nbformat_minor": 5
}
