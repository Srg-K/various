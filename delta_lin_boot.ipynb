{
 "cells": [
  {
   "cell_type": "code",
   "execution_count": 73,
   "metadata": {},
   "outputs": [],
   "source": [
    "import numpy as np\n",
    "import pandas as pd\n",
    "from scipy.stats import norm, ttest_ind, poisson\n",
    "from tqdm.auto import tqdm\n",
    "import scipy\n",
    "import matplotlib.pyplot as plt\n",
    "\n",
    "def deltamethod(x_0, y_0, x_1, y_1):\n",
    "    n_0 = y_0.shape[0]-1\n",
    "    n_1 = y_0.shape[0]-1\n",
    "\n",
    "    mean_x_0, var_x_0 = np.mean(x_0), np.var(x_0)\n",
    "    mean_x_1, var_x_1 = np.mean(x_1), np.var(x_1)\n",
    "\n",
    "    mean_y_0, var_y_0 = np.mean(y_0), np.var(y_0)\n",
    "    mean_y_1, var_y_1 = np.mean(y_1), np.var(y_1)\n",
    "\n",
    "    cov_0 = np.mean((x_0 - mean_x_0.reshape(-1, )) * (y_0 - mean_y_0.reshape(-1, )))\n",
    "    cov_1 = np.mean((x_1 - mean_x_1.reshape(-1, )) * (y_1 - mean_y_1.reshape(-1, )))\n",
    "\n",
    "    var_0 = var_x_0 / mean_y_0 ** 2 + var_y_0 * mean_x_0 ** 2 / mean_y_0 ** 4 - 2 * mean_x_0 / mean_y_0 ** 3 * cov_0\n",
    "    var_1 = var_x_1 / mean_y_1 ** 2 + var_y_1 * mean_x_1 ** 2 / mean_y_1 ** 4 - 2 * mean_x_1 / mean_y_1 ** 3 * cov_1\n",
    "\n",
    "    rto_0 = np.sum(x_0) / np.sum(y_0)\n",
    "    rto_1 = np.sum(x_1) / np.sum(y_1)\n",
    "\n",
    "    statistic = (rto_1 - rto_0) / np.sqrt(var_0 / n_0 + var_1 / n_1)\n",
    "    pvalue = 2 * np.minimum(norm(0, 1).cdf(statistic), 1 - norm(0, 1).cdf(statistic))\n",
    "    return pvalue\n",
    "\n",
    "\n",
    "def linearization(x_0, y_0, x_1, y_1):\n",
    "    k = x_0.sum() / y_0.sum()\n",
    "    l_0 = x_0 - k * y_0\n",
    "    l_1 = x_1 - k * y_1\n",
    "    return l_0, l_1\n",
    "\n",
    "\n",
    "def bootstrap_poisson(rto0, w0, rto1, w1, boot_it=500):\n",
    "    \"\"\"\n",
    "    Пуассоновский бутстрап\n",
    "    :param rto0: Рассчитанное ratio для левого сплита\n",
    "    :param w0: Знаменатель rto0\n",
    "    :param rto1: Рассчитанное ratio для правого сплита\n",
    "    :param w1: Знаменатель rto1\n",
    "    :param boot_it: количество бут итераций\n",
    "    :return: pvalue\n",
    "    \"\"\"\n",
    "    \n",
    "    poisson_0 = poisson(1).rvs((boot_it, rto0.size)).astype(np.int64)\n",
    "    poisson_1 = poisson(1).rvs((boot_it, rto1.size)).astype(np.int64)\n",
    "\n",
    "    rto1 = np.matmul(rto1 * w1, poisson_1.T)\n",
    "\n",
    "    w1 = np.matmul(w1, poisson_1.T)\n",
    "\n",
    "    rto0 = np.matmul(rto0 * w0, poisson_0.T)\n",
    "    w0 = np.matmul(w0, poisson_0.T)\n",
    "    \n",
    "    delta = rto1 / w1 - rto0 / w0\n",
    "    \n",
    "    positions = np.sum(delta < 0)\n",
    "\n",
    "    pvalue = 2 * np.minimum(positions, boot_it - positions) / boot_it\n",
    "    return pvalue"
   ]
  },
  {
   "cell_type": "code",
   "execution_count": 74,
   "metadata": {},
   "outputs": [
    {
     "data": {
      "text/html": [
       "<div>\n",
       "<style scoped>\n",
       "    .dataframe tbody tr th:only-of-type {\n",
       "        vertical-align: middle;\n",
       "    }\n",
       "\n",
       "    .dataframe tbody tr th {\n",
       "        vertical-align: top;\n",
       "    }\n",
       "\n",
       "    .dataframe thead th {\n",
       "        text-align: right;\n",
       "    }\n",
       "</style>\n",
       "<table border=\"1\" class=\"dataframe\">\n",
       "  <thead>\n",
       "    <tr style=\"text-align: right;\">\n",
       "      <th></th>\n",
       "      <th>user_id</th>\n",
       "      <th>variant</th>\n",
       "      <th>revenue_amt</th>\n",
       "      <th>session_cnt</th>\n",
       "    </tr>\n",
       "  </thead>\n",
       "  <tbody>\n",
       "    <tr>\n",
       "      <th>0</th>\n",
       "      <td>1</td>\n",
       "      <td>1</td>\n",
       "      <td>48</td>\n",
       "      <td>1</td>\n",
       "    </tr>\n",
       "    <tr>\n",
       "      <th>1</th>\n",
       "      <td>2</td>\n",
       "      <td>0</td>\n",
       "      <td>68</td>\n",
       "      <td>1</td>\n",
       "    </tr>\n",
       "    <tr>\n",
       "      <th>2</th>\n",
       "      <td>3</td>\n",
       "      <td>0</td>\n",
       "      <td>153</td>\n",
       "      <td>3</td>\n",
       "    </tr>\n",
       "    <tr>\n",
       "      <th>3</th>\n",
       "      <td>4</td>\n",
       "      <td>0</td>\n",
       "      <td>193</td>\n",
       "      <td>3</td>\n",
       "    </tr>\n",
       "    <tr>\n",
       "      <th>4</th>\n",
       "      <td>4</td>\n",
       "      <td>1</td>\n",
       "      <td>129</td>\n",
       "      <td>1</td>\n",
       "    </tr>\n",
       "    <tr>\n",
       "      <th>...</th>\n",
       "      <td>...</td>\n",
       "      <td>...</td>\n",
       "      <td>...</td>\n",
       "      <td>...</td>\n",
       "    </tr>\n",
       "    <tr>\n",
       "      <th>6366</th>\n",
       "      <td>5046</td>\n",
       "      <td>1</td>\n",
       "      <td>78</td>\n",
       "      <td>2</td>\n",
       "    </tr>\n",
       "    <tr>\n",
       "      <th>6367</th>\n",
       "      <td>5047</td>\n",
       "      <td>0</td>\n",
       "      <td>155</td>\n",
       "      <td>2</td>\n",
       "    </tr>\n",
       "    <tr>\n",
       "      <th>6368</th>\n",
       "      <td>5047</td>\n",
       "      <td>1</td>\n",
       "      <td>20</td>\n",
       "      <td>1</td>\n",
       "    </tr>\n",
       "    <tr>\n",
       "      <th>6369</th>\n",
       "      <td>5048</td>\n",
       "      <td>0</td>\n",
       "      <td>356</td>\n",
       "      <td>4</td>\n",
       "    </tr>\n",
       "    <tr>\n",
       "      <th>6370</th>\n",
       "      <td>5048</td>\n",
       "      <td>1</td>\n",
       "      <td>104</td>\n",
       "      <td>2</td>\n",
       "    </tr>\n",
       "  </tbody>\n",
       "</table>\n",
       "<p>6371 rows × 4 columns</p>\n",
       "</div>"
      ],
      "text/plain": [
       "      user_id  variant  revenue_amt  session_cnt\n",
       "0           1        1           48            1\n",
       "1           2        0           68            1\n",
       "2           3        0          153            3\n",
       "3           4        0          193            3\n",
       "4           4        1          129            1\n",
       "...       ...      ...          ...          ...\n",
       "6366     5046        1           78            2\n",
       "6367     5047        0          155            2\n",
       "6368     5047        1           20            1\n",
       "6369     5048        0          356            4\n",
       "6370     5048        1          104            2\n",
       "\n",
       "[6371 rows x 4 columns]"
      ]
     },
     "metadata": {},
     "output_type": "display_data"
    }
   ],
   "source": [
    "np.random.seed(5)\n",
    "n = 10000\n",
    "df = pd.DataFrame({\n",
    "    'user_id': np.random.randint(low = 1, high = 5050, size = n),\n",
    "    'session_id': np.random.randint(low = 1, high = 30, size = n),\n",
    "    'variant': np.random.randint(low = 0, high = 2, size = n),\n",
    "    'bill': np.random.randint(low = 10, high = 100, size = n)\n",
    "})\n",
    "\n",
    "def agg_totals(x):\n",
    "    names = { 'revenue_amt': sum(x['bill']), 'session_cnt': x['session_cnt'].nunique() }\n",
    "    return pd.Series(names)\n",
    "\n",
    "df_ = df.groupby(['user_id','variant']).apply(agg_totals).reset_index()\n",
    "display(df_)"
   ]
  },
  {
   "cell_type": "code",
   "execution_count": 82,
   "metadata": {},
   "outputs": [
    {
     "data": {
      "text/plain": [
       "0.3586708556870396"
      ]
     },
     "execution_count": 82,
     "metadata": {},
     "output_type": "execute_result"
    }
   ],
   "source": [
    "deltamethod(\n",
    "    df_.revenue_amt[df_.variant == 0],\n",
    "    df_.session_cnt[df_.variant == 0],\n",
    "    df_.revenue_amt[df_.variant == 1],\n",
    "    df_.session_cnt[df_.variant == 1]\n",
    ")"
   ]
  },
  {
   "cell_type": "code",
   "execution_count": 85,
   "metadata": {},
   "outputs": [
    {
     "data": {
      "text/plain": [
       "Ttest_indResult(statistic=0.9265395001626586, pvalue=0.3542007868896986)"
      ]
     },
     "execution_count": 85,
     "metadata": {},
     "output_type": "execute_result"
    }
   ],
   "source": [
    "# Получим тоже самое, что и дм\n",
    "l_0, l_1 = linearization(\n",
    "    df_.revenue_amt[df_.variant == 0],\n",
    "    df_.session_cnt[df_.variant == 0],\n",
    "    df_.revenue_amt[df_.variant == 1],\n",
    "    df_.session_cnt[df_.variant == 1]\n",
    ")\n",
    "\n",
    "ttest_ind(l_0, l_1, equal_var=False)"
   ]
  },
  {
   "cell_type": "code",
   "execution_count": 86,
   "metadata": {},
   "outputs": [
    {
     "data": {
      "text/plain": [
       "0.348"
      ]
     },
     "execution_count": 86,
     "metadata": {},
     "output_type": "execute_result"
    }
   ],
   "source": [
    "# и приблизительно тоже самое, что и бутстрап\n",
    "bootstrap_poisson(\n",
    "    df_.revenue_amt[df_.variant == 0] / df_.session_cnt[df_.variant == 0],\n",
    "    df_.session_cnt[df_.variant == 0],\n",
    "    df_.revenue_amt[df_.variant == 1] / df_.session_cnt[df_.variant == 1],\n",
    "    df_.session_cnt[df_.variant == 1]\n",
    ")"
   ]
  },
  {
   "cell_type": "code",
   "execution_count": 87,
   "metadata": {},
   "outputs": [
    {
     "name": "stdout",
     "output_type": "stream",
     "text": [
      "0.8892413817436526 0.8888245057483422\n"
     ]
    }
   ],
   "source": [
    "# Интересный факт, что если использовать обычный т-тест и дм на одной случайной величине, то получим те же pvalue\n",
    "p_dm = deltamethod(\n",
    "    df_.revenue_amt[df_.variant == 0],\n",
    "    np.repeat(1,len(df_.revenue_amt[df_.variant == 0])),\n",
    "    df_.revenue_amt[df_.variant == 1],\n",
    "    np.repeat(1,len(df_.revenue_amt[df_.variant == 1])),\n",
    ")\n",
    "\n",
    "p_t = ttest_ind(df_.revenue_amt[df_.variant == 0], df_.revenue_amt[df_.variant == 1])\n",
    "\n",
    "print(p_dm, p_t[1])"
   ]
  },
  {
   "cell_type": "code",
   "execution_count": 39,
   "metadata": {
    "scrolled": true
   },
   "outputs": [],
   "source": [
    "pvals_lin = []\n",
    "pvals_dm = []\n",
    "pvals_boot = []\n",
    "for i in range(0,100):\n",
    "    n = len(df_)\n",
    "    df_['variant'] = np.random.randint(low = 0, high = 2, size = n)\n",
    "    l_0, l_1 = linearization(\n",
    "        df_.revenue_amt[df_.variant == 0],\n",
    "        df_.session_cnt[df_.variant == 0],\n",
    "        df_.revenue_amt[df_.variant == 1],\n",
    "        df_.session_cnt[df_.variant == 1]\n",
    "    )\n",
    "    p_lin = ttest_ind(l_0, l_1, equal_var=False)[1]\n",
    "    p_dm = deltamethod(\n",
    "        df_.revenue_amt[df_.variant == 0],\n",
    "        df_.session_cnt[df_.variant == 0],\n",
    "        df_.revenue_amt[df_.variant == 1],\n",
    "        df_.session_cnt[df_.variant == 1]\n",
    "    )\n",
    "    p_boot = bootstrap_poisson(\n",
    "        df_.revenue_amt[df_.variant == 0] / df_.session_cnt[df_.variant == 0],\n",
    "        df_.session_cnt[df_.variant == 0],\n",
    "        df_.revenue_amt[df_.variant == 1] / df_.session_cnt[df_.variant == 1],\n",
    "        df_.session_cnt[df_.variant == 1]\n",
    "    )\n",
    "    pvals_lin.append(p_lin)\n",
    "    pvals_dm.append(p_dm)\n",
    "    pvals_boot.append(p_boot)\n",
    "    \n"
   ]
  },
  {
   "cell_type": "code",
   "execution_count": 40,
   "metadata": {},
   "outputs": [
    {
     "data": {
      "text/plain": [
       "[<matplotlib.lines.Line2D at 0x7fa020b600a0>]"
      ]
     },
     "execution_count": 40,
     "metadata": {},
     "output_type": "execute_result"
    },
    {
     "data": {
      "image/png": "[encoded data removed]",
      "text/plain": [
       "<Figure size 432x432 with 1 Axes>"
      ]
     },
     "metadata": {
      "needs_background": "light"
     },
     "output_type": "display_data"
    }
   ],
   "source": [
    "# Сравнение lin и dm\n",
    "f, ax = plt.subplots(figsize=(6, 6))\n",
    "ax.scatter(pvals_lin, pvals_dm, c=\".1\")\n",
    "ax.plot([0, 1], [0, 1], ls=\"--\", c=\".1\")"
   ]
  },
  {
   "cell_type": "code",
   "execution_count": 41,
   "metadata": {
    "scrolled": false
   },
   "outputs": [
    {
     "data": {
      "text/plain": [
       "[<matplotlib.lines.Line2D at 0x7fa02c1b7880>]"
      ]
     },
     "execution_count": 41,
     "metadata": {},
     "output_type": "execute_result"
    },
    {
     "data": {
      "image/png": "[encoded data removed]",
      "text/plain": [
       "<Figure size 432x432 with 1 Axes>"
      ]
     },
     "metadata": {
      "needs_background": "light"
     },
     "output_type": "display_data"
    }
   ],
   "source": [
    "# Сравнение lin и boot\n",
    "f, ax = plt.subplots(figsize=(6, 6))\n",
    "ax.scatter(pvals_lin, pvals_boot, c=\".1\")\n",
    "ax.plot([0, 1], [0, 1], ls=\"--\", c=\".1\")"
   ]
  },
  {
   "cell_type": "markdown",
   "metadata": {},
   "source": [
    "# Применяем бакеты"
   ]
  },
  {
   "cell_type": "code",
   "execution_count": 91,
   "metadata": {},
   "outputs": [],
   "source": [
    "bucket_num = 500\n",
    "buckets = np.repeat(np.arange(0, bucket_num), len(df_) // bucket_num)\n",
    "reminder = np.arange(0, len(df_) - len(buckets))\n",
    "buckets = np.append(buckets, reminder)\n",
    "df_['bucket'] = buckets\n",
    "\n",
    "\n",
    "# Агрегируем\n",
    "def agg_totals(x):\n",
    "    names = {\n",
    "        'user_cnt': x['user_id'].nunique(),\n",
    "        'revenue_amt': sum(x['revenue_amt']), \n",
    "        'session_cnt': x['session_cnt'].sum()\n",
    "    }\n",
    "    return pd.Series(names)\n",
    "\n",
    "df_b = df_.groupby([\"bucket\", \"variant\"]).apply(agg_totals).reset_index()\n",
    "# df_ = df_.groupby([\"user_id\", \"bucket\", \"variant\"]).apply(agg_totals).reset_index()"
   ]
  },
  {
   "cell_type": "code",
   "execution_count": 92,
   "metadata": {},
   "outputs": [
    {
     "data": {
      "text/html": [
       "<div>\n",
       "<style scoped>\n",
       "    .dataframe tbody tr th:only-of-type {\n",
       "        vertical-align: middle;\n",
       "    }\n",
       "\n",
       "    .dataframe tbody tr th {\n",
       "        vertical-align: top;\n",
       "    }\n",
       "\n",
       "    .dataframe thead th {\n",
       "        text-align: right;\n",
       "    }\n",
       "</style>\n",
       "<table border=\"1\" class=\"dataframe\">\n",
       "  <thead>\n",
       "    <tr style=\"text-align: right;\">\n",
       "      <th></th>\n",
       "      <th>bucket</th>\n",
       "      <th>variant</th>\n",
       "      <th>user_cnt</th>\n",
       "      <th>revenue_amt</th>\n",
       "      <th>session_cnt</th>\n",
       "    </tr>\n",
       "  </thead>\n",
       "  <tbody>\n",
       "    <tr>\n",
       "      <th>0</th>\n",
       "      <td>0</td>\n",
       "      <td>0</td>\n",
       "      <td>9</td>\n",
       "      <td>985</td>\n",
       "      <td>17</td>\n",
       "    </tr>\n",
       "    <tr>\n",
       "      <th>1</th>\n",
       "      <td>0</td>\n",
       "      <td>1</td>\n",
       "      <td>4</td>\n",
       "      <td>310</td>\n",
       "      <td>4</td>\n",
       "    </tr>\n",
       "    <tr>\n",
       "      <th>2</th>\n",
       "      <td>1</td>\n",
       "      <td>0</td>\n",
       "      <td>7</td>\n",
       "      <td>398</td>\n",
       "      <td>9</td>\n",
       "    </tr>\n",
       "    <tr>\n",
       "      <th>3</th>\n",
       "      <td>1</td>\n",
       "      <td>1</td>\n",
       "      <td>6</td>\n",
       "      <td>488</td>\n",
       "      <td>8</td>\n",
       "    </tr>\n",
       "    <tr>\n",
       "      <th>4</th>\n",
       "      <td>2</td>\n",
       "      <td>0</td>\n",
       "      <td>4</td>\n",
       "      <td>326</td>\n",
       "      <td>6</td>\n",
       "    </tr>\n",
       "    <tr>\n",
       "      <th>...</th>\n",
       "      <td>...</td>\n",
       "      <td>...</td>\n",
       "      <td>...</td>\n",
       "      <td>...</td>\n",
       "      <td>...</td>\n",
       "    </tr>\n",
       "    <tr>\n",
       "      <th>995</th>\n",
       "      <td>497</td>\n",
       "      <td>1</td>\n",
       "      <td>5</td>\n",
       "      <td>487</td>\n",
       "      <td>7</td>\n",
       "    </tr>\n",
       "    <tr>\n",
       "      <th>996</th>\n",
       "      <td>498</td>\n",
       "      <td>0</td>\n",
       "      <td>3</td>\n",
       "      <td>441</td>\n",
       "      <td>6</td>\n",
       "    </tr>\n",
       "    <tr>\n",
       "      <th>997</th>\n",
       "      <td>498</td>\n",
       "      <td>1</td>\n",
       "      <td>9</td>\n",
       "      <td>892</td>\n",
       "      <td>16</td>\n",
       "    </tr>\n",
       "    <tr>\n",
       "      <th>998</th>\n",
       "      <td>499</td>\n",
       "      <td>0</td>\n",
       "      <td>4</td>\n",
       "      <td>470</td>\n",
       "      <td>9</td>\n",
       "    </tr>\n",
       "    <tr>\n",
       "      <th>999</th>\n",
       "      <td>499</td>\n",
       "      <td>1</td>\n",
       "      <td>8</td>\n",
       "      <td>519</td>\n",
       "      <td>11</td>\n",
       "    </tr>\n",
       "  </tbody>\n",
       "</table>\n",
       "<p>1000 rows × 5 columns</p>\n",
       "</div>"
      ],
      "text/plain": [
       "     bucket  variant  user_cnt  revenue_amt  session_cnt\n",
       "0         0        0         9          985           17\n",
       "1         0        1         4          310            4\n",
       "2         1        0         7          398            9\n",
       "3         1        1         6          488            8\n",
       "4         2        0         4          326            6\n",
       "..      ...      ...       ...          ...          ...\n",
       "995     497        1         5          487            7\n",
       "996     498        0         3          441            6\n",
       "997     498        1         9          892           16\n",
       "998     499        0         4          470            9\n",
       "999     499        1         8          519           11\n",
       "\n",
       "[1000 rows x 5 columns]"
      ]
     },
     "execution_count": 92,
     "metadata": {},
     "output_type": "execute_result"
    }
   ],
   "source": [
    "df_b"
   ]
  },
  {
   "cell_type": "markdown",
   "metadata": {},
   "source": [
    "# Немного поменяем функцию дельтаметода, чтобы корректно считать дисперсию"
   ]
  },
  {
   "cell_type": "code",
   "execution_count": 93,
   "metadata": {},
   "outputs": [],
   "source": [
    "def deltamethod_bucketed(df_0, df_1, num_col, den_col, n_col):\n",
    "    x_0 = np.array(df_0[num_col])\n",
    "    x_1 = np.array(df_1[num_col])\n",
    "    y_0 = np.array(df_0[den_col])\n",
    "    y_1 = np.array(df_1[den_col])\n",
    "    n_0 = np.array(df_0[n_col].sum())\n",
    "    n_1 = np.array(df_1[n_col].sum())\n",
    "\n",
    "    mean_x_0 = x_0.sum() / n_0\n",
    "    mean_x_1 = x_1.sum() / n_1\n",
    "    mean_y_0 = y_0.sum() / n_0\n",
    "    mean_y_1 = y_1.sum() / n_1\n",
    "    \n",
    "    var_x_0 = np.sum(np.array([abs(a - mean_x_0)**2 for a in x_0])) / n_0\n",
    "    var_x_1 = np.sum(np.array([abs(a - mean_x_1)**2 for a in x_1])) / n_1\n",
    "    var_y_0 = np.sum(np.array([abs(a - mean_y_0)**2 for a in y_0])) / n_0\n",
    "    var_y_1 = np.sum(np.array([abs(a - mean_y_1)**2 for a in y_1])) / n_1\n",
    "    cov_0 = np.sum((x_0 - mean_x_0.reshape(-1, 1)) * (y_0 - mean_y_0.reshape(-1, 1)), axis=1) / n_0\n",
    "    cov_1 = np.sum((x_1 - mean_x_1.reshape(-1, 1)) * (y_1 - mean_y_1.reshape(-1, 1)), axis=1) / n_1\n",
    "\n",
    "    var_0 = var_x_0 / mean_y_0 ** 2 + var_y_0 * mean_x_0 ** 2 / mean_y_0 ** 4 - 2 * mean_x_0 / mean_y_0 ** 3 * cov_0\n",
    "    var_1 = var_x_1 / mean_y_1 ** 2 + var_y_1 * mean_x_1 ** 2 / mean_y_1 ** 4 - 2 * mean_x_1 / mean_y_1 ** 3 * cov_1\n",
    "\n",
    "    rto_0 = np.sum(x_0) / np.sum(y_0)\n",
    "    rto_1 = np.sum(x_1) / np.sum(y_1)\n",
    "    statistic = (rto_1 - rto_0) / np.sqrt(var_0 / n_0 + var_1 / n_1)\n",
    "\n",
    "    pvalue = 2 * np.minimum(norm(0, 1).cdf(statistic), 1 - norm(0, 1).cdf(statistic))\n",
    "    return pvalue[0]"
   ]
  },
  {
   "cell_type": "markdown",
   "metadata": {},
   "source": [
    "## Сравниваем оригинальную выборку с бакетами"
   ]
  },
  {
   "cell_type": "code",
   "execution_count": 94,
   "metadata": {},
   "outputs": [
    {
     "name": "stdout",
     "output_type": "stream",
     "text": [
      "0.3586708556870396 0.35347489103646834\n"
     ]
    }
   ],
   "source": [
    "p_dm = deltamethod(\n",
    "    df_.revenue_amt[df_.variant == 0],\n",
    "    df_.session_cnt[df_.variant == 0],\n",
    "    df_.revenue_amt[df_.variant == 1],\n",
    "    df_.session_cnt[df_.variant == 1]\n",
    ")\n",
    "\n",
    "p_dm_bucketed = deltamethod_bucketed(\n",
    "    df_0=df_b[df_b['variant'] == 0], \n",
    "    df_1=df_b[df_b['variant'] == 1], \n",
    "    num_col=\"revenue_amt\", \n",
    "    den_col=\"session_cnt\", \n",
    "    n_col=\"user_cnt\"\n",
    ")\n",
    "print(p_dm, p_dm_bucketed)"
   ]
  },
  {
   "cell_type": "code",
   "execution_count": null,
   "metadata": {},
   "outputs": [],
   "source": []
  },
  {
   "cell_type": "code",
   "execution_count": null,
   "metadata": {},
   "outputs": [],
   "source": []
  }
 ],
 "metadata": {
  "kernelspec": {
   "display_name": "Python 3 (ipykernel)",
   "language": "python",
   "name": "python3"
  },
  "language_info": {
   "codemirror_mode": {
    "name": "ipython",
    "version": 3
   },
   "file_extension": ".py",
   "mimetype": "text/x-python",
   "name": "python",
   "nbconvert_exporter": "python",
   "pygments_lexer": "ipython3",
   "version": "3.8.1"
  }
 },
 "nbformat": 4,
 "nbformat_minor": 4
}
